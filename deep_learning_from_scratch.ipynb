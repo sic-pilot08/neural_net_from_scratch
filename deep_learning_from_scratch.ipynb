{
  "nbformat": 4,
  "nbformat_minor": 0,
  "metadata": {
    "colab": {
      "provenance": [],
      "authorship_tag": "ABX9TyNWny6VE3XDafhXfXps+LLV",
      "include_colab_link": true
    },
    "kernelspec": {
      "name": "python3",
      "display_name": "Python 3"
    },
    "language_info": {
      "name": "python"
    }
  },
  "cells": [
    {
      "cell_type": "markdown",
      "metadata": {
        "id": "view-in-github",
        "colab_type": "text"
      },
      "source": [
        "<a href=\"https://colab.research.google.com/github/sic-pilot08/neural_net_from_scratch/blob/developer/deep_learning_from_scratch.ipynb\" target=\"_parent\"><img src=\"https://colab.research.google.com/assets/colab-badge.svg\" alt=\"Open In Colab\"/></a>"
      ]
    },
    {
      "cell_type": "markdown",
      "source": [
        "A Single Neuron:"
      ],
      "metadata": {
        "id": "87YwtXoA7kIo"
      }
    },
    {
      "cell_type": "code",
      "execution_count": null,
      "metadata": {
        "id": "rwpk6__HsoeL",
        "colab": {
          "base_uri": "https://localhost:8080/"
        },
        "outputId": "e8d68711-37e9-44af-975c-0e6a11c276c4"
      },
      "outputs": [
        {
          "output_type": "stream",
          "name": "stdout",
          "text": [
            "4.8\n"
          ]
        }
      ],
      "source": [
        "inputs = [1.0, 2.0, 3.0, 2.5]\n",
        "weights = [0.2, 0.8, -0.5, 1.0]\n",
        "bias = 2.0\n",
        "output = 0\n",
        "for i in range(len(inputs)):\n",
        "  output += inputs[i]*weights[i]\n",
        "output = output + bias\n",
        "\n",
        "# output = inputs[0]*weights[0] + inputs[1]*weights[1] + inputs[2]*weights[2] + bias\n",
        "print(output)"
      ]
    },
    {
      "cell_type": "markdown",
      "source": [
        "A Layer of Neurons:"
      ],
      "metadata": {
        "id": "fsBUCUhg7tQf"
      }
    },
    {
      "cell_type": "code",
      "source": [
        "inputs = [1, 2, 3, 2.5]\n",
        "\n",
        "weights = [[0.2, 0.8, -0.5, 1],\n",
        "           [0.5, -0.91, 0.26, -0.5], \n",
        "           [-0.26, -0.27, 0.17, 0.87]]\n",
        "        \n",
        "biases = [2, 3, 0.5]\n",
        "\n"
      ],
      "metadata": {
        "id": "7rtrkxvG6RaY"
      },
      "execution_count": null,
      "outputs": []
    },
    {
      "cell_type": "code",
      "source": [
        "layer_outputs = [] \n"
      ],
      "metadata": {
        "id": "FLyU6fha-Brw",
        "colab": {
          "base_uri": "https://localhost:8080/"
        },
        "outputId": "e91c3440-c2a9-48d4-e1a0-e087daa2c6aa"
      },
      "execution_count": null,
      "outputs": [
        {
          "output_type": "stream",
          "name": "stdout",
          "text": [
            "7.199999999999999\n"
          ]
        }
      ]
    }
  ]
}