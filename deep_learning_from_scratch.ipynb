{
  "nbformat": 4,
  "nbformat_minor": 0,
  "metadata": {
    "colab": {
      "provenance": [],
      "authorship_tag": "ABX9TyPTYy8YKnzJTDSxqqnSYpzc",
      "include_colab_link": true
    },
    "kernelspec": {
      "name": "python3",
      "display_name": "Python 3"
    },
    "language_info": {
      "name": "python"
    }
  },
  "cells": [
    {
      "cell_type": "markdown",
      "metadata": {
        "id": "view-in-github",
        "colab_type": "text"
      },
      "source": [
        "<a href=\"https://colab.research.google.com/github/sic-pilot08/neural_net_from_scratch/blob/main/deep_learning_from_scratch.ipynb\" target=\"_parent\"><img src=\"https://colab.research.google.com/assets/colab-badge.svg\" alt=\"Open In Colab\"/></a>"
      ]
    },
    {
      "cell_type": "markdown",
      "source": [
        "A Single Neuron:"
      ],
      "metadata": {
        "id": "87YwtXoA7kIo"
      }
    },
    {
      "cell_type": "code",
      "execution_count": null,
      "metadata": {
        "id": "rwpk6__HsoeL",
        "colab": {
          "base_uri": "https://localhost:8080/"
        },
        "outputId": "e8d68711-37e9-44af-975c-0e6a11c276c4"
      },
      "outputs": [
        {
          "output_type": "stream",
          "name": "stdout",
          "text": [
            "4.8\n"
          ]
        }
      ],
      "source": [
        "inputs = [1.0, 2.0, 3.0, 2.5]\n",
        "weights = [0.2, 0.8, -0.5, 1.0]\n",
        "bias = 2.0\n",
        "output = 0\n",
        "for i in range(len(inputs)):\n",
        "  output += inputs[i]*weights[i]\n",
        "output = output + bias\n",
        "\n",
        "# output = inputs[0]*weights[0] + inputs[1]*weights[1] + inputs[2]*weights[2] + bias\n",
        "print(output)"
      ]
    },
    {
      "cell_type": "markdown",
      "source": [
        "A Layer of Neurons:"
      ],
      "metadata": {
        "id": "fsBUCUhg7tQf"
      }
    },
    {
      "cell_type": "code",
      "source": [
        "inputs = [1, 2, 3, 2.5]\n",
        "print(inputs)"
      ],
      "metadata": {
        "id": "7rtrkxvG6RaY",
        "colab": {
          "base_uri": "https://localhost:8080/"
        },
        "outputId": "c11ca372-4d67-488a-fd58-3fda89dea8fe"
      },
      "execution_count": 9,
      "outputs": [
        {
          "output_type": "stream",
          "name": "stdout",
          "text": [
            "[1, 2, 3, 2.5]\n"
          ]
        }
      ]
    },
    {
      "cell_type": "code",
      "source": [],
      "metadata": {
        "id": "FLyU6fha-Brw"
      },
      "execution_count": null,
      "outputs": []
    }
  ]
}