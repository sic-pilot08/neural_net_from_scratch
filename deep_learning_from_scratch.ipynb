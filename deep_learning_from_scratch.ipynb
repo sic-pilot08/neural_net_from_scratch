{
  "nbformat": 4,
  "nbformat_minor": 0,
  "metadata": {
    "colab": {
      "provenance": [],
      "collapsed_sections": [],
      "authorship_tag": "ABX9TyORqv3OkHqNvLkC0DBe1EBY",
      "include_colab_link": true
    },
    "kernelspec": {
      "name": "python3",
      "display_name": "Python 3"
    },
    "language_info": {
      "name": "python"
    }
  },
  "cells": [
    {
      "cell_type": "markdown",
      "metadata": {
        "id": "view-in-github",
        "colab_type": "text"
      },
      "source": [
        "<a href=\"https://colab.research.google.com/github/sic-pilot08/neural_net_from_scratch/blob/developer/deep_learning_from_scratch.ipynb\" target=\"_parent\"><img src=\"https://colab.research.google.com/assets/colab-badge.svg\" alt=\"Open In Colab\"/></a>"
      ]
    },
    {
      "cell_type": "markdown",
      "source": [
        "A Single Neuron:"
      ],
      "metadata": {
        "id": "87YwtXoA7kIo"
      }
    },
    {
      "cell_type": "code",
      "execution_count": 2,
      "metadata": {
        "id": "rwpk6__HsoeL",
        "colab": {
          "base_uri": "https://localhost:8080/"
        },
        "outputId": "52b62cf5-f8a2-4b46-a8f5-be138db8adad"
      },
      "outputs": [
        {
          "output_type": "stream",
          "name": "stdout",
          "text": [
            "4.8\n"
          ]
        }
      ],
      "source": [
        "inputs = [1.0, 2.0, 3.0, 2.5]\n",
        "weights = [0.2, 0.8, -0.5, 1.0]\n",
        "bias = 2.0\n",
        "output = 0\n",
        "for i in range(len(inputs)):\n",
        "  output += inputs[i]*weights[i]\n",
        "output = output + bias\n",
        "\n",
        "# output = inputs[0]*weights[0] + inputs[1]*weights[1] + inputs[2]*weights[2] + bias\n",
        "print(output)"
      ]
    },
    {
      "cell_type": "markdown",
      "source": [
        "A Layer of Neurons:"
      ],
      "metadata": {
        "id": "fsBUCUhg7tQf"
      }
    },
    {
      "cell_type": "code",
      "source": [
        "inputs = [1, 2, 3, 2.5]\n",
        "\n",
        "weights = [[0.2, 0.8, -0.5, 1],\n",
        "           [0.5, -0.91, 0.26, -0.5], \n",
        "           [-0.26, -0.27, 0.17, 0.87]]\n",
        "        \n",
        "biases = [2, 3, 0.5]\n",
        "\n"
      ],
      "metadata": {
        "id": "7rtrkxvG6RaY"
      },
      "execution_count": 3,
      "outputs": []
    },
    {
      "cell_type": "code",
      "source": [
        "layer_outputs = [] \n",
        "\n",
        "for neuron_weights, neuron_bias in zip(weights, biases):\n",
        "  neuron_output = 0\n",
        "  for n_input, weight in zip(inputs, neuron_weights):\n",
        "    neuron_output += n_input*weight\n",
        "  neuron_output += neuron_bias\n",
        "  layer_outputs.append(neuron_output)\n",
        "\n",
        "print(layer_outputs)"
      ],
      "metadata": {
        "id": "FLyU6fha-Brw",
        "colab": {
          "base_uri": "https://localhost:8080/"
        },
        "outputId": "2803c78c-2d80-4e25-adfe-dc347b8bc848"
      },
      "execution_count": 5,
      "outputs": [
        {
          "output_type": "stream",
          "name": "stdout",
          "text": [
            "[4.8, 1.21, 2.385]\n"
          ]
        }
      ]
    },
    {
      "cell_type": "code",
      "source": [],
      "metadata": {
        "id": "-G4NkgM7gG16"
      },
      "execution_count": null,
      "outputs": []
    }
  ]
}